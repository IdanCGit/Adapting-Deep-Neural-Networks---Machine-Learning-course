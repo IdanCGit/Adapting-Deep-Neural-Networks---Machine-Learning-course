{
  "cells": [
    {
      "cell_type": "markdown",
      "metadata": {
        "id": "BtnL2ASLzS7S"
      },
      "source": [
        "# **Part 2: Pretrained CNNs**"
      ]
    },
    {
      "cell_type": "markdown",
      "source": [
        "Mount Drive"
      ],
      "metadata": {
        "id": "wJddxNxUMFc3"
      }
    },
    {
      "cell_type": "code",
      "execution_count": null,
      "metadata": {
        "colab": {
          "base_uri": "https://localhost:8080/"
        },
        "id": "-5K1I9mDkxDl",
        "outputId": "a79c10a6-d6c8-4339-a379-d847c82a6a27"
      },
      "outputs": [
        {
          "output_type": "stream",
          "name": "stdout",
          "text": [
            "Drive already mounted at /content/drive; to attempt to forcibly remount, call drive.mount(\"/content/drive\", force_remount=True).\n"
          ]
        }
      ],
      "source": [
        "from google.colab import drive\n",
        "drive.mount('/content/drive')"
      ]
    },
    {
      "cell_type": "markdown",
      "source": [
        "----------------"
      ],
      "metadata": {
        "id": "auw5Sj2rExeJ"
      }
    },
    {
      "cell_type": "markdown",
      "metadata": {
        "id": "AlbRklu50Ymi"
      },
      "source": [
        "# Dataset"
      ]
    },
    {
      "cell_type": "markdown",
      "source": [
        "This takes the dataset and transforms it to fit the VGG19 data format.\n",
        "\n",
        "Data > train/validation/test > label_1/label_2/.../label_102"
      ],
      "metadata": {
        "id": "7hl9tCSqLipb"
      }
    },
    {
      "cell_type": "markdown",
      "metadata": {
        "id": "5d_XIitsD4zX"
      },
      "source": [
        "One-time code to set up dataset.\n",
        "\n",
        "Used on local machine."
      ]
    },
    {
      "cell_type": "code",
      "execution_count": null,
      "metadata": {
        "id": "4HA1AjZrDYCT"
      },
      "outputs": [],
      "source": [
        "# import scipy.io\n",
        "# import shutil\n",
        "# import os\n",
        "\n",
        "# # Load labels from imagelabels.mat\n",
        "# data = scipy.io.loadmat('.../imagelabels.mat')\n",
        "# labels = data['labels']\n",
        "\n",
        "# # Directory paths\n",
        "# source_dir = '.../jpg'  # Original dataset as given by the oxford 102 flowers site\n",
        "# destination_dir = '.../dataset'  # Destination directory\n",
        "\n",
        "# # Create folders for each label\n",
        "# for label in set(labels.flatten()):\n",
        "#     label_folder = os.path.join(destination_dir, f'label_{label}')\n",
        "#     os.makedirs(label_folder, exist_ok=True)\n",
        "\n",
        "# # Copy images to corresponding label folders\n",
        "# for filename, label in zip(os.listdir(source_dir), labels.flatten()):\n",
        "#     image_path = os.path.join(source_dir, filename)\n",
        "#     label_folder = os.path.join(destination_dir, f'label_{label}')\n",
        "#     shutil.copy(image_path, label_folder)"
      ]
    },
    {
      "cell_type": "markdown",
      "metadata": {
        "id": "FrwqoYRoeOM8"
      },
      "source": [
        "Ran once on drive to split dataset to train, test and validation.\n",
        "\n",
        "Cannot split to both test and validation using built-in commands to get the specified 50% Train, 25% Validation and 25% Test sets."
      ]
    },
    {
      "cell_type": "code",
      "execution_count": null,
      "metadata": {
        "id": "D6cRXf2TQ1kY"
      },
      "outputs": [],
      "source": [
        "# import os\n",
        "# import shutil\n",
        "# import random\n",
        "\n",
        "# data_dir = '/content/drive/MyDrive/dataset'\n",
        "# train_dir = '/content/drive/MyDrive/DatasetVGG/train'\n",
        "# valid_dir = '/content/drive/MyDrive/DatasetVGG/validation'\n",
        "# test_dir = '/content/drive/MyDrive/DatasetVGG/test'\n",
        "\n",
        "# os.makedirs(train_dir, exist_ok=True)\n",
        "# os.makedirs(valid_dir, exist_ok=True)\n",
        "# os.makedirs(test_dir, exist_ok=True)\n",
        "\n",
        "# for class_name in os.listdir(data_dir):\n",
        "#     class_dir = os.path.join(data_dir, class_name)\n",
        "#     if os.path.isdir(class_dir):\n",
        "#         images = os.listdir(class_dir)\n",
        "#         random.shuffle(images)\n",
        "\n",
        "#         train_split = int(0.5 * len(images))\n",
        "#         valid_split = int(0.75 * len(images))\n",
        "\n",
        "#         train_images = images[:train_split]\n",
        "#         valid_images = images[train_split:valid_split]\n",
        "#         test_images = images[valid_split:]\n",
        "\n",
        "#         for image in train_images:\n",
        "#             src = os.path.join(class_dir, image)\n",
        "#             dst = os.path.join(train_dir, class_name, image)\n",
        "#             os.makedirs(os.path.dirname(dst), exist_ok=True)\n",
        "#             shutil.copyfile(src, dst)\n",
        "\n",
        "#         for image in valid_images:\n",
        "#             src = os.path.join(class_dir, image)\n",
        "#             dst = os.path.join(valid_dir, class_name, image)\n",
        "#             os.makedirs(os.path.dirname(dst), exist_ok=True)\n",
        "#             shutil.copyfile(src, dst)\n",
        "\n",
        "#         for image in test_images:\n",
        "#             src = os.path.join(class_dir, image)\n",
        "#             dst = os.path.join(test_dir, class_name, image)\n",
        "#             os.makedirs(os.path.dirname(dst), exist_ok=True)\n",
        "#             shutil.copyfile(src, dst)"
      ]
    },
    {
      "cell_type": "code",
      "execution_count": null,
      "metadata": {
        "id": "3RcCvBPwkyka"
      },
      "outputs": [],
      "source": [
        "train_dir = '/content/drive/MyDrive/DatasetVGG/train'\n",
        "valid_dir = '/content/drive/MyDrive/DatasetVGG/validation'\n",
        "test_dir = '/content/drive/MyDrive/DatasetVGG/test'"
      ]
    },
    {
      "cell_type": "markdown",
      "source": [
        "------------------------------------------------------------"
      ],
      "metadata": {
        "id": "hPCfaZ73Ey6a"
      }
    },
    {
      "cell_type": "markdown",
      "metadata": {
        "id": "x9fQfniUzPfa"
      },
      "source": [
        "#VGG19"
      ]
    },
    {
      "cell_type": "code",
      "execution_count": null,
      "metadata": {
        "id": "WBSouTC65NOc"
      },
      "outputs": [],
      "source": [
        "import pandas as pd\n",
        "import numpy as np\n",
        "from sklearn.model_selection import train_test_split\n",
        "from sklearn.utils import shuffle\n",
        "import cv2\n",
        "\n",
        "import tensorflow as tf\n",
        "from keras.applications.vgg19 import preprocess_input\n",
        "from keras.applications import VGG19\n",
        "\n",
        "from keras.preprocessing.image import ImageDataGenerator\n",
        "from keras.models import Model\n",
        "from keras.layers import Dense, Dropout, GlobalAveragePooling2D\n",
        "from keras.optimizers import Adam\n",
        "from keras.utils import to_categorical"
      ]
    },
    {
      "cell_type": "markdown",
      "source": [
        "Data loaders"
      ],
      "metadata": {
        "id": "ZQXTXfoWG_Au"
      }
    },
    {
      "cell_type": "code",
      "execution_count": null,
      "metadata": {
        "colab": {
          "base_uri": "https://localhost:8080/"
        },
        "id": "7kqDSZikJ6RM",
        "outputId": "3726c916-a341-461e-feb3-32965fb22cd5"
      },
      "outputs": [
        {
          "name": "stdout",
          "output_type": "stream",
          "text": [
            "Found 4070 images belonging to 102 classes.\n",
            "Found 2032 images belonging to 102 classes.\n",
            "Found 2087 images belonging to 102 classes.\n"
          ]
        }
      ],
      "source": [
        "batch_size = 32\n",
        "image_size = (224, 224)\n",
        "\n",
        "# Use data augmentation for training images\n",
        "train_datagen = ImageDataGenerator(\n",
        "    preprocessing_function=preprocess_input,\n",
        "    rescale=1./255,\n",
        "    shear_range=0.2,\n",
        "    zoom_range=0.2,\n",
        "    horizontal_flip=True,\n",
        ")\n",
        "\n",
        "# No augmentation on test and valid sets\n",
        "valid_datagen = ImageDataGenerator(rescale=1./255,preprocessing_function=preprocess_input)\n",
        "test_datagen = ImageDataGenerator(rescale=1./255,preprocessing_function=preprocess_input)\n",
        "\n",
        "train_generator = train_datagen.flow_from_directory(\n",
        "    train_dir,\n",
        "    target_size=(224, 224),\n",
        "    batch_size=batch_size,\n",
        "    class_mode='categorical'\n",
        ")\n",
        "\n",
        "valid_generator = valid_datagen.flow_from_directory(\n",
        "    valid_dir,\n",
        "    target_size=(224, 224),\n",
        "    batch_size=batch_size,\n",
        "    class_mode='categorical'\n",
        ")\n",
        "\n",
        "test_generator = test_datagen.flow_from_directory(\n",
        "    test_dir,\n",
        "    target_size=(224, 224),\n",
        "    batch_size=batch_size,\n",
        "    class_mode='categorical'\n",
        ")"
      ]
    },
    {
      "cell_type": "markdown",
      "source": [
        "Model"
      ],
      "metadata": {
        "id": "I9en6DerHBiL"
      }
    },
    {
      "cell_type": "code",
      "execution_count": null,
      "metadata": {
        "id": "kjvdWUE96Vb7"
      },
      "outputs": [],
      "source": [
        "base_model_VGG19 = VGG19(weights='imagenet', include_top=False, input_shape=(224, 224, 3))"
      ]
    },
    {
      "cell_type": "code",
      "execution_count": null,
      "metadata": {
        "id": "rLMOepRJ9I8m"
      },
      "outputs": [],
      "source": [
        "# Freeze the Layers of VGG19. Tried unfreezing the last convolution block, but results were not adequate\n",
        "# freeze_until_layer = \"block5_conv1\"\n",
        "for layer in base_model_VGG19.layers:\n",
        "    # if layer.name == freeze_until_layer:\n",
        "    #     break\n",
        "    layer.trainable = False"
      ]
    },
    {
      "cell_type": "markdown",
      "metadata": {
        "id": "vO8wnByQ9bPB"
      },
      "source": [
        "New linear classifier on top layer"
      ]
    },
    {
      "cell_type": "code",
      "execution_count": null,
      "metadata": {
        "id": "2AknZXjN9Nh6"
      },
      "outputs": [],
      "source": [
        "x = base_model_VGG19.output\n",
        "x = GlobalAveragePooling2D()(x)\n",
        "x = Dense(512, activation='relu')(x)\n",
        "x = Dropout(0.5)(x)\n",
        "x = Dense(256, activation='relu')(x)\n",
        "predictions = Dense(102, activation='softmax')(x)"
      ]
    },
    {
      "cell_type": "code",
      "execution_count": null,
      "metadata": {
        "id": "nVEFvkqZ9ZMa"
      },
      "outputs": [],
      "source": [
        "modelVGG19 = Model(inputs=base_model_VGG19.input, outputs=predictions)"
      ]
    },
    {
      "cell_type": "code",
      "execution_count": null,
      "metadata": {
        "colab": {
          "base_uri": "https://localhost:8080/"
        },
        "id": "lCUg6i8ssnSo",
        "outputId": "8d92c755-0526-4d92-c7c8-d8285514fbe5"
      },
      "outputs": [
        {
          "name": "stdout",
          "output_type": "stream",
          "text": [
            "Model: \"model_9\"\n",
            "_________________________________________________________________\n",
            " Layer (type)                Output Shape              Param #   \n",
            "=================================================================\n",
            " input_9 (InputLayer)        [(None, 224, 224, 3)]     0         \n",
            "                                                                 \n",
            " block1_conv1 (Conv2D)       (None, 224, 224, 64)      1792      \n",
            "                                                                 \n",
            " block1_conv2 (Conv2D)       (None, 224, 224, 64)      36928     \n",
            "                                                                 \n",
            " block1_pool (MaxPooling2D)  (None, 112, 112, 64)      0         \n",
            "                                                                 \n",
            " block2_conv1 (Conv2D)       (None, 112, 112, 128)     73856     \n",
            "                                                                 \n",
            " block2_conv2 (Conv2D)       (None, 112, 112, 128)     147584    \n",
            "                                                                 \n",
            " block2_pool (MaxPooling2D)  (None, 56, 56, 128)       0         \n",
            "                                                                 \n",
            " block3_conv1 (Conv2D)       (None, 56, 56, 256)       295168    \n",
            "                                                                 \n",
            " block3_conv2 (Conv2D)       (None, 56, 56, 256)       590080    \n",
            "                                                                 \n",
            " block3_conv3 (Conv2D)       (None, 56, 56, 256)       590080    \n",
            "                                                                 \n",
            " block3_conv4 (Conv2D)       (None, 56, 56, 256)       590080    \n",
            "                                                                 \n",
            " block3_pool (MaxPooling2D)  (None, 28, 28, 256)       0         \n",
            "                                                                 \n",
            " block4_conv1 (Conv2D)       (None, 28, 28, 512)       1180160   \n",
            "                                                                 \n",
            " block4_conv2 (Conv2D)       (None, 28, 28, 512)       2359808   \n",
            "                                                                 \n",
            " block4_conv3 (Conv2D)       (None, 28, 28, 512)       2359808   \n",
            "                                                                 \n",
            " block4_conv4 (Conv2D)       (None, 28, 28, 512)       2359808   \n",
            "                                                                 \n",
            " block4_pool (MaxPooling2D)  (None, 14, 14, 512)       0         \n",
            "                                                                 \n",
            " block5_conv1 (Conv2D)       (None, 14, 14, 512)       2359808   \n",
            "                                                                 \n",
            " block5_conv2 (Conv2D)       (None, 14, 14, 512)       2359808   \n",
            "                                                                 \n",
            " block5_conv3 (Conv2D)       (None, 14, 14, 512)       2359808   \n",
            "                                                                 \n",
            " block5_conv4 (Conv2D)       (None, 14, 14, 512)       2359808   \n",
            "                                                                 \n",
            " block5_pool (MaxPooling2D)  (None, 7, 7, 512)         0         \n",
            "                                                                 \n",
            " global_average_pooling2d_7   (None, 512)              0         \n",
            " (GlobalAveragePooling2D)                                        \n",
            "                                                                 \n",
            " dense_29 (Dense)            (None, 512)               262656    \n",
            "                                                                 \n",
            " dropout_10 (Dropout)        (None, 512)               0         \n",
            "                                                                 \n",
            " dense_30 (Dense)            (None, 256)               131328    \n",
            "                                                                 \n",
            " dense_31 (Dense)            (None, 102)               26214     \n",
            "                                                                 \n",
            "=================================================================\n",
            "Total params: 20,444,582\n",
            "Trainable params: 420,198\n",
            "Non-trainable params: 20,024,384\n",
            "_________________________________________________________________\n"
          ]
        }
      ],
      "source": [
        "modelVGG19.summary()"
      ]
    },
    {
      "cell_type": "code",
      "execution_count": null,
      "metadata": {
        "id": "iIgX6-6B9hkM"
      },
      "outputs": [],
      "source": [
        "modelVGG19.compile(optimizer=Adam(learning_rate=0.001),\n",
        "              loss='categorical_crossentropy',\n",
        "              metrics=['accuracy'])"
      ]
    },
    {
      "cell_type": "code",
      "execution_count": null,
      "metadata": {
        "colab": {
          "background_save": true,
          "base_uri": "https://localhost:8080/"
        },
        "id": "xqbhQRijgrPE",
        "outputId": "12ddd0f9-2dfa-45dd-8a42-f80b9fdf5158"
      },
      "outputs": [
        {
          "name": "stdout",
          "output_type": "stream",
          "text": [
            "Epoch 1/20\n",
            "127/127 [==============================] - 99s 777ms/step - loss: 4.4472 - accuracy: 0.0527 - val_loss: 4.0476 - val_accuracy: 0.1166\n",
            "Epoch 2/20\n",
            "127/127 [==============================] - 97s 760ms/step - loss: 3.7101 - accuracy: 0.1449 - val_loss: 3.0743 - val_accuracy: 0.2619\n",
            "Epoch 3/20\n",
            "127/127 [==============================] - 94s 741ms/step - loss: 2.9671 - accuracy: 0.2623 - val_loss: 2.4573 - val_accuracy: 0.4013\n",
            "Epoch 4/20\n",
            "127/127 [==============================] - 94s 737ms/step - loss: 2.5011 - accuracy: 0.3517 - val_loss: 2.1713 - val_accuracy: 0.4221\n",
            "Epoch 5/20\n",
            "127/127 [==============================] - 95s 749ms/step - loss: 2.2140 - accuracy: 0.4066 - val_loss: 1.8424 - val_accuracy: 0.5169\n",
            "Epoch 6/20\n",
            "127/127 [==============================] - 96s 756ms/step - loss: 2.0073 - accuracy: 0.4527 - val_loss: 1.7023 - val_accuracy: 0.5446\n",
            "Epoch 7/20\n",
            "127/127 [==============================] - 95s 747ms/step - loss: 1.8759 - accuracy: 0.4921 - val_loss: 1.5897 - val_accuracy: 0.5605\n",
            "Epoch 8/20\n",
            "127/127 [==============================] - 113s 886ms/step - loss: 1.7428 - accuracy: 0.5263 - val_loss: 1.4656 - val_accuracy: 0.5957\n",
            "Epoch 9/20\n",
            "127/127 [==============================] - 99s 781ms/step - loss: 1.6682 - accuracy: 0.5354 - val_loss: 1.4191 - val_accuracy: 0.6071\n",
            "Epoch 10/20\n",
            "127/127 [==============================] - 94s 740ms/step - loss: 1.5794 - accuracy: 0.5550 - val_loss: 1.3540 - val_accuracy: 0.6225\n",
            "Epoch 11/20\n",
            "127/127 [==============================] - 96s 754ms/step - loss: 1.4872 - accuracy: 0.5825 - val_loss: 1.3098 - val_accuracy: 0.6384\n",
            "Epoch 12/20\n",
            "127/127 [==============================] - 93s 729ms/step - loss: 1.4339 - accuracy: 0.5951 - val_loss: 1.3312 - val_accuracy: 0.6290\n",
            "Epoch 13/20\n",
            "127/127 [==============================] - 93s 734ms/step - loss: 1.3705 - accuracy: 0.6166 - val_loss: 1.2954 - val_accuracy: 0.6295\n",
            "Epoch 14/20\n",
            "127/127 [==============================] - 95s 748ms/step - loss: 1.3320 - accuracy: 0.6199 - val_loss: 1.1937 - val_accuracy: 0.6687\n",
            "Epoch 15/20\n",
            "127/127 [==============================] - 93s 734ms/step - loss: 1.2866 - accuracy: 0.6283 - val_loss: 1.1797 - val_accuracy: 0.6662\n",
            "Epoch 16/20\n",
            "127/127 [==============================] - 93s 729ms/step - loss: 1.2294 - accuracy: 0.6461 - val_loss: 1.1346 - val_accuracy: 0.6746\n",
            "Epoch 17/20\n",
            "127/127 [==============================] - 94s 738ms/step - loss: 1.2055 - accuracy: 0.6602 - val_loss: 1.1645 - val_accuracy: 0.6687\n",
            "Epoch 18/20\n",
            "127/127 [==============================] - 91s 717ms/step - loss: 1.1409 - accuracy: 0.6711 - val_loss: 1.1360 - val_accuracy: 0.6706\n",
            "Epoch 19/20\n",
            "127/127 [==============================] - 92s 720ms/step - loss: 1.1609 - accuracy: 0.6684 - val_loss: 1.0829 - val_accuracy: 0.6870\n",
            "Epoch 20/20\n",
            "127/127 [==============================] - 93s 732ms/step - loss: 1.1107 - accuracy: 0.6766 - val_loss: 1.0724 - val_accuracy: 0.6989\n"
          ]
        }
      ],
      "source": [
        "# Set the number of training and validation steps per epoch\n",
        "train_steps_per_epoch = train_generator.samples // batch_size\n",
        "valid_steps_per_epoch = valid_generator.samples // batch_size\n",
        "\n",
        "# Train the model\n",
        "epochs = 20\n",
        "historyVGG19 = modelVGG19.fit(\n",
        "                              train_generator,\n",
        "                              steps_per_epoch=train_steps_per_epoch,\n",
        "                              epochs=epochs,\n",
        "                              validation_data=valid_generator,\n",
        "                              validation_steps=valid_steps_per_epoch\n",
        ")"
      ]
    },
    {
      "cell_type": "code",
      "execution_count": null,
      "metadata": {
        "colab": {
          "background_save": true
        },
        "id": "qKmyxxesB0AZ",
        "outputId": "879e9f1e-a66b-4581-9c8d-644dd28c2d72"
      },
      "outputs": [
        {
          "name": "stdout",
          "output_type": "stream",
          "text": [
            "65/65 [==============================] - 18s 280ms/step - loss: 1.0281 - accuracy: 0.7231\n",
            "Test loss: 1.0280715227127075\n",
            "Test accuracy: 0.7230769395828247\n"
          ]
        }
      ],
      "source": [
        "# Evaluate the model on the test data\n",
        "test_steps = test_generator.samples // batch_size\n",
        "score = modelVGG19.evaluate(test_generator, steps=test_steps)\n",
        "print('Test loss:', score[0])\n",
        "print('Test accuracy:', score[1])"
      ]
    },
    {
      "cell_type": "code",
      "execution_count": null,
      "metadata": {
        "id": "0xmAqMwSEFSE",
        "colab": {
          "base_uri": "https://localhost:8080/",
          "height": 472
        },
        "outputId": "01ed711b-fbca-4d2b-e9a6-077fd31d1a6b"
      },
      "outputs": [
        {
          "output_type": "display_data",
          "data": {
            "text/plain": [
              "<Figure size 640x480 with 1 Axes>"
            ],
            "image/png": "[encoded data removed]"
          },
          "metadata": {}
        }
      ],
      "source": [
        "import matplotlib.pyplot as plt\n",
        "plt.plot(historyVGG19.history['accuracy'])\n",
        "plt.plot(historyVGG19.history['val_accuracy'])\n",
        "plt.title('model accuracy')\n",
        "plt.ylabel('accuracy')\n",
        "plt.xlabel('epoch')\n",
        "plt.legend(['train', 'val'], loc='upper left')\n",
        "plt.show()"
      ]
    },
    {
      "cell_type": "code",
      "execution_count": null,
      "metadata": {
        "id": "ZgWbFM9CEKyB",
        "colab": {
          "base_uri": "https://localhost:8080/",
          "height": 472
        },
        "outputId": "e90dd13f-a43a-4e1a-afd7-8f122a68e705"
      },
      "outputs": [
        {
          "output_type": "display_data",
          "data": {
            "text/plain": [
              "<Figure size 640x480 with 1 Axes>"
            ],
            "image/png": "[encoded data removed]"
          },
          "metadata": {}
        }
      ],
      "source": [
        "plt.plot(historyVGG19.history['loss'])\n",
        "plt.plot(historyVGG19.history['val_loss'])\n",
        "plt.title('model loss')\n",
        "plt.ylabel('loss')\n",
        "plt.xlabel('epoch')\n",
        "plt.legend(['train', 'val'], loc='upper left')\n",
        "plt.show()"
      ]
    },
    {
      "cell_type": "markdown",
      "source": [
        "--------------"
      ],
      "metadata": {
        "id": "fyMt9p2zEqnI"
      }
    },
    {
      "cell_type": "markdown",
      "source": [
        "# YOLOv5"
      ],
      "metadata": {
        "id": "fDQrWNe1ErGp"
      }
    },
    {
      "cell_type": "markdown",
      "source": [
        "Using YOLOv5s-cls : Classification Model"
      ],
      "metadata": {
        "id": "d6Yht6pRRQa2"
      }
    },
    {
      "cell_type": "code",
      "source": [
        "import torch\n",
        "import os\n",
        "from IPython.display import Image, clear_output  # to display images\n",
        "\n",
        "#clone YOLOv5 - one-time, as I need to transfer the dataset everytime. Takes long time on drive\n",
        "# !git clone https://github.com/ultralytics/yolov5.git /content/drive/MyDrive/yolov5\n",
        "%cd /content/drive/MyDrive/yolov5\n",
        "%pip install -qr requirements.txt # install dependencies\n",
        "\n",
        "print(f\"Setup complete. Using torch {torch.__version__} ({torch.cuda.get_device_properties(0).name if torch.cuda.is_available() else 'CPU'})\")"
      ],
      "metadata": {
        "colab": {
          "base_uri": "https://localhost:8080/"
        },
        "id": "LlUbL-QMDAjJ",
        "outputId": "74302d9d-6286-4cfe-db80-99a34adb0dce"
      },
      "execution_count": null,
      "outputs": [
        {
          "output_type": "stream",
          "name": "stdout",
          "text": [
            "/content/drive/MyDrive/yolov5\n",
            "Setup complete. Using torch 2.0.1+cu118 (Tesla T4)\n"
          ]
        }
      ]
    },
    {
      "cell_type": "markdown",
      "source": [
        "Using the same data format as the VGG19 model."
      ],
      "metadata": {
        "id": "TG6424PwI4kF"
      }
    },
    {
      "cell_type": "code",
      "source": [
        "# Classification model training using the Oxford 102 flowers dataset with the VGG19 data format (using the tutorial inside the repository under classify)\n",
        "!python classify/train.py --img 224 --batch 32 --epochs 20 --data /content/drive/MyDrive/DatasetVGG --model yolov5s-cls.pt --cache"
      ],
      "metadata": {
        "colab": {
          "base_uri": "https://localhost:8080/"
        },
        "id": "THUZB1qlDBZw",
        "outputId": "f5086780-4417-4873-e93e-d12b3bbf002f"
      },
      "execution_count": null,
      "outputs": [
        {
          "output_type": "stream",
          "name": "stdout",
          "text": [
            "WARNING ⚠️ 'ultralytics.yolo.v8' is deprecated since '8.0.136' and will be removed in '8.1.0'. Please use 'ultralytics.models.yolo' instead.\n",
            "WARNING ⚠️ 'ultralytics.yolo.utils' is deprecated since '8.0.136' and will be removed in '8.1.0'. Please use 'ultralytics.utils' instead.\n",
            "Note this warning may be related to loading older models. You can update your model to current structure with:\n",
            "    import torch\n",
            "    ckpt = torch.load(\"model.pt\")  # applies to both official and custom models\n",
            "    torch.save(ckpt, \"updated-model.pt\")\n",
            "\n",
            "\u001b[34m\u001b[1mclassify/train: \u001b[0mmodel=yolov5s-cls.pt, data=/content/drive/MyDrive/DatasetVGG, epochs=20, batch_size=32, imgsz=224, nosave=False, cache=ram, device=, workers=8, project=runs/train-cls, name=exp, exist_ok=False, pretrained=True, optimizer=Adam, lr0=0.001, decay=5e-05, label_smoothing=0.1, cutoff=None, dropout=None, verbose=False, seed=0, local_rank=-1\n",
            "\u001b[34m\u001b[1mgithub: \u001b[0mup to date with https://github.com/ultralytics/yolov5 ✅\n",
            "YOLOv5 🚀 v7.0-193-g485da42 Python-3.10.6 torch-2.0.1+cu118 CUDA:0 (Tesla T4, 15102MiB)\n",
            "\n",
            "\u001b[34m\u001b[1mTensorBoard: \u001b[0mStart with 'tensorboard --logdir runs/train-cls', view at http://localhost:6006/\n",
            "\u001b[34m\u001b[1malbumentations: \u001b[0mRandomResizedCrop(p=1.0, height=224, width=224, scale=(0.08, 1.0), ratio=(0.75, 1.3333333333333333), interpolation=1), HorizontalFlip(p=0.5), ColorJitter(p=0.5, brightness=[0.6, 1.4], contrast=[0.6, 1.4], saturation=[0.6, 1.4], hue=[0, 0]), Normalize(p=1.0, mean=(0.485, 0.456, 0.406), std=(0.229, 0.224, 0.225), max_pixel_value=255.0), ToTensorV2(always_apply=True, p=1.0, transpose_mask=False)\n",
            "Model summary: 149 layers, 4303142 parameters, 4303142 gradients, 10.6 GFLOPs\n",
            "\u001b[34m\u001b[1moptimizer:\u001b[0m Adam(lr=0.001) with parameter groups 32 weight(decay=0.0), 33 weight(decay=5e-05), 33 bias\n",
            "Image sizes 224 train, 224 test\n",
            "Using 1 dataloader workers\n",
            "Logging results to \u001b[1mruns/train-cls/exp4\u001b[0m\n",
            "Starting yolov5s-cls.pt training on /content/drive/MyDrive/DatasetVGG dataset with 102 classes for 20 epochs...\n",
            "\n",
            "     Epoch   GPU_mem  train_loss   test_loss    top1_acc    top5_acc\n",
            "      1/20    0.893G        2.63        1.81        0.73       0.927: 100% 128/128 [56:01<00:00, 26.26s/it] \n",
            "      2/20    0.893G        1.72        1.41       0.864       0.978: 100% 128/128 [00:49<00:00,  2.60it/s]\n",
            "      3/20    0.893G        1.52        1.36       0.869       0.976: 100% 128/128 [00:51<00:00,  2.51it/s]\n",
            "      4/20    0.893G        1.38        1.25       0.899        0.99: 100% 128/128 [00:50<00:00,  2.52it/s]\n",
            "      5/20    0.893G        1.29        1.22        0.92       0.988: 100% 128/128 [00:52<00:00,  2.45it/s]\n",
            "      6/20    0.893G        1.25        1.17        0.93       0.989: 100% 128/128 [00:49<00:00,  2.57it/s]\n",
            "      7/20    0.893G         1.2        1.11       0.949        0.99: 100% 128/128 [00:49<00:00,  2.56it/s]\n",
            "      8/20    0.893G        1.17         1.1       0.943       0.993: 100% 128/128 [00:50<00:00,  2.56it/s]\n",
            "      9/20    0.893G        1.13         1.1       0.946       0.991: 100% 128/128 [00:49<00:00,  2.57it/s]\n",
            "     10/20    0.893G        1.13        1.09       0.951       0.991: 100% 128/128 [00:51<00:00,  2.46it/s]\n",
            "     11/20    0.893G        1.08        1.04       0.964       0.995: 100% 128/128 [00:49<00:00,  2.60it/s]\n",
            "     12/20    0.893G        1.07        1.02       0.965       0.996: 100% 128/128 [00:49<00:00,  2.56it/s]\n",
            "     13/20    0.893G        1.04        1.02       0.965       0.995: 100% 128/128 [00:49<00:00,  2.59it/s]\n",
            "     14/20    0.893G        1.02       0.998       0.971       0.995: 100% 128/128 [00:49<00:00,  2.58it/s]\n",
            "     15/20    0.893G        1.01        0.98       0.977       0.997: 100% 128/128 [00:51<00:00,  2.47it/s]\n",
            "     16/20    0.893G       0.997       0.983       0.974       0.996: 100% 128/128 [00:49<00:00,  2.57it/s]\n",
            "     17/20    0.893G       0.976       0.965       0.981       0.997: 100% 128/128 [00:49<00:00,  2.57it/s]\n",
            "     18/20    0.893G       0.963       0.961       0.981       0.997: 100% 128/128 [00:48<00:00,  2.63it/s]\n",
            "     19/20    0.893G       0.946       0.955       0.979       0.998: 100% 128/128 [00:50<00:00,  2.53it/s]\n",
            "     20/20    0.893G       0.951       0.953       0.978       0.998: 100% 128/128 [00:50<00:00,  2.51it/s]\n",
            "\n",
            "Training complete (1.200 hours)\n",
            "Results saved to \u001b[1mruns/train-cls/exp4\u001b[0m\n",
            "Predict:         python classify/predict.py --weights runs/train-cls/exp4/weights/best.pt --source im.jpg\n",
            "Validate:        python classify/val.py --weights runs/train-cls/exp4/weights/best.pt --data /content/drive/MyDrive/DatasetVGG\n",
            "Export:          python export.py --weights runs/train-cls/exp4/weights/best.pt --include onnx\n",
            "PyTorch Hub:     model = torch.hub.load('ultralytics/yolov5', 'custom', 'runs/train-cls/exp4/weights/best.pt')\n",
            "Visualize:       https://netron.app\n",
            "\n"
          ]
        }
      ]
    },
    {
      "cell_type": "code",
      "source": [
        "# This is the TEST. In the YOLO files val.py refers to the TEST, as well as the directory it takes the data from.\n",
        "!python classify/val.py --weights runs/train-cls/exp4/weights/best.pt --data /content/drive/MyDrive/DatasetVGG"
      ],
      "metadata": {
        "id": "xvRAEs52DCJT",
        "colab": {
          "base_uri": "https://localhost:8080/"
        },
        "outputId": "246b523b-2d41-427b-d182-943829f7b253"
      },
      "execution_count": null,
      "outputs": [
        {
          "output_type": "stream",
          "name": "stdout",
          "text": [
            "WARNING ⚠️ 'ultralytics.yolo.v8' is deprecated since '8.0.136' and will be removed in '8.1.0'. Please use 'ultralytics.models.yolo' instead.\n",
            "WARNING ⚠️ 'ultralytics.yolo.utils' is deprecated since '8.0.136' and will be removed in '8.1.0'. Please use 'ultralytics.utils' instead.\n",
            "Note this warning may be related to loading older models. You can update your model to current structure with:\n",
            "    import torch\n",
            "    ckpt = torch.load(\"model.pt\")  # applies to both official and custom models\n",
            "    torch.save(ckpt, \"updated-model.pt\")\n",
            "\n",
            "\u001b[34m\u001b[1mclassify/val: \u001b[0mdata=/content/drive/MyDrive/DatasetVGG, weights=['runs/train-cls/exp4/weights/best.pt'], batch_size=128, imgsz=224, device=, workers=8, verbose=True, project=runs/val-cls, name=exp, exist_ok=False, half=False, dnn=False\n",
            "YOLOv5 🚀 v7.0-193-g485da42 Python-3.10.6 torch-2.0.1+cu118 CUDA:0 (Tesla T4, 15102MiB)\n",
            "\n",
            "Fusing layers... \n",
            "Model summary: 117 layers, 4297350 parameters, 0 gradients, 10.5 GFLOPs\n",
            "testing: 100% 17/17 [00:12<00:00,  1.31it/s]\n",
            "                   Class      Images    top1_acc    top5_acc\n",
            "                     all        2087       0.981       0.997\n",
            "                 label_1          10           1           1\n",
            "                label_10          12           1           1\n",
            "               label_100          13           1           1\n",
            "               label_101          15       0.867       0.933\n",
            "               label_102          12           1           1\n",
            "                label_11          22       0.955           1\n",
            "                label_12          22       0.864       0.955\n",
            "                label_13          13           1           1\n",
            "                label_14          12           1           1\n",
            "                label_15          13           1           1\n",
            "                label_16          11       0.818           1\n",
            "                label_17          22           1           1\n",
            "                label_18          21       0.952       0.952\n",
            "                label_19          13       0.923           1\n",
            "                 label_2          15           1           1\n",
            "                label_20          14           1           1\n",
            "                label_21          10           1           1\n",
            "                label_22          15           1           1\n",
            "                label_23          23           1           1\n",
            "                label_24          11           1           1\n",
            "                label_25          11           1           1\n",
            "                label_26          11           1           1\n",
            "                label_27          10           1           1\n",
            "                label_28          17           1           1\n",
            "                label_29          20           1           1\n",
            "                 label_3          10         0.9           1\n",
            "                label_30          22           1           1\n",
            "                label_31          13       0.923           1\n",
            "                label_32          12           1           1\n",
            "                label_33          12           1           1\n",
            "                label_34          10         0.9           1\n",
            "                label_35          11           1           1\n",
            "                label_36          19           1           1\n",
            "                label_37          27           1           1\n",
            "                label_38          14           1           1\n",
            "                label_39          11           1           1\n",
            "                 label_4          14       0.857           1\n",
            "                label_40          17       0.882       0.941\n",
            "                label_41          32           1           1\n",
            "                label_42          15           1           1\n",
            "                label_43          33           1           1\n",
            "                label_44          24           1           1\n",
            "                label_45          10           1           1\n",
            "                label_46          49           1           1\n",
            "                label_47          17           1           1\n",
            "                label_48          18           1           1\n",
            "                label_49          13           1           1\n",
            "                 label_5          17       0.941           1\n",
            "                label_50          23           1           1\n",
            "                label_51          65           1           1\n",
            "                label_52          22           1           1\n",
            "                label_53          24           1           1\n",
            "                label_54          16           1           1\n",
            "                label_55          18           1           1\n",
            "                label_56          28           1           1\n",
            "                label_57          17           1           1\n",
            "                label_58          29           1           1\n",
            "                label_59          17           1           1\n",
            "                 label_6          12           1           1\n",
            "                label_60          28           1           1\n",
            "                label_61          13           1           1\n",
            "                label_62          14       0.929           1\n",
            "                label_63          14           1           1\n",
            "                label_64          13           1           1\n",
            "                label_65          26           1           1\n",
            "                label_66          16           1           1\n",
            "                label_67          11       0.909           1\n",
            "                label_68          14       0.929           1\n",
            "                label_69          14           1           1\n",
            "                 label_7          10         0.9           1\n",
            "                label_70          16           1           1\n",
            "                label_71          20           1           1\n",
            "                label_72          24           1           1\n",
            "                label_73          49        0.98           1\n",
            "                label_74          43           1           1\n",
            "                label_75          30           1           1\n",
            "                label_76          27           1           1\n",
            "                label_77          63           1           1\n",
            "                label_78          35           1           1\n",
            "                label_79          11           1           1\n",
            "                 label_8          22           1           1\n",
            "                label_80          27           1           1\n",
            "                label_81          42           1           1\n",
            "                label_82          28           1           1\n",
            "                label_83          33           1           1\n",
            "                label_84          22       0.955           1\n",
            "                label_85          16           1           1\n",
            "                label_86          15       0.933           1\n",
            "                label_87          16       0.938           1\n",
            "                label_88          39           1           1\n",
            "                label_89          46           1           1\n",
            "                 label_9          12       0.833           1\n",
            "                label_90          21       0.905           1\n",
            "                label_91          19       0.947           1\n",
            "                label_92          17       0.941           1\n",
            "                label_93          12       0.833       0.917\n",
            "                label_94          41           1           1\n",
            "                label_95          32       0.969       0.969\n",
            "                label_96          23       0.913           1\n",
            "                label_97          17       0.941           1\n",
            "                label_98          21       0.952           1\n",
            "                label_99          16           1           1\n",
            "Speed: 0.1ms pre-process, 0.6ms inference, 0.0ms post-process per image at shape (1, 3, 224, 224)\n",
            "Results saved to \u001b[1mruns/val-cls/exp5\u001b[0m\n"
          ]
        }
      ]
    },
    {
      "cell_type": "markdown",
      "source": [
        "Evaluation plots"
      ],
      "metadata": {
        "id": "1SEEbBVJZkEp"
      }
    },
    {
      "cell_type": "code",
      "source": [
        "import pandas as pd\n",
        "histortYOLOv5 = pd.read_csv('runs/train-cls/exp4/results.csv')\n",
        "histortYOLOv5.head()"
      ],
      "metadata": {
        "colab": {
          "base_uri": "https://localhost:8080/",
          "height": 206
        },
        "id": "GGelEiLxtpK_",
        "outputId": "b25b0c24-d057-47ef-8314-8492588e18ce"
      },
      "execution_count": null,
      "outputs": [
        {
          "output_type": "execute_result",
          "data": {
            "text/plain": [
              "                     epoch               train/loss                test/loss  \\\n",
              "0                        0                   2.6308                   1.8091   \n",
              "1                        1                   1.7225                   1.4149   \n",
              "2                        2                   1.5221                   1.3626   \n",
              "3                        3                   1.3781                   1.2491   \n",
              "4                        4                   1.2930                   1.2151   \n",
              "\n",
              "     metrics/accuracy_top1    metrics/accuracy_top5                     lr/0  \n",
              "0                  0.73023                  0.92669                 0.000950  \n",
              "1                  0.86440                  0.97844                 0.000901  \n",
              "2                  0.86919                  0.97556                 0.000852  \n",
              "3                  0.89938                  0.98994                 0.000802  \n",
              "4                  0.91950                  0.98802                 0.000753  "
            ],
            "text/html": [
              "\n",
              "\n",
              "  <div id=\"df-e2d0d808-a6a5-499e-a3d2-a687201dbcfa\">\n",
              "    <div class=\"colab-df-container\">\n",
              "      <div>\n",
              "<style scoped>\n",
              "    .dataframe tbody tr th:only-of-type {\n",
              "        vertical-align: middle;\n",
              "    }\n",
              "\n",
              "    .dataframe tbody tr th {\n",
              "        vertical-align: top;\n",
              "    }\n",
              "\n",
              "    .dataframe thead th {\n",
              "        text-align: right;\n",
              "    }\n",
              "</style>\n",
              "<table border=\"1\" class=\"dataframe\">\n",
              "  <thead>\n",
              "    <tr style=\"text-align: right;\">\n",
              "      <th></th>\n",
              "      <th>epoch</th>\n",
              "      <th>train/loss</th>\n",
              "      <th>test/loss</th>\n",
              "      <th>metrics/accuracy_top1</th>\n",
              "      <th>metrics/accuracy_top5</th>\n",
              "      <th>lr/0</th>\n",
              "    </tr>\n",
              "  </thead>\n",
              "  <tbody>\n",
              "    <tr>\n",
              "      <th>0</th>\n",
              "      <td>0</td>\n",
              "      <td>2.6308</td>\n",
              "      <td>1.8091</td>\n",
              "      <td>0.73023</td>\n",
              "      <td>0.92669</td>\n",
              "      <td>0.000950</td>\n",
              "    </tr>\n",
              "    <tr>\n",
              "      <th>1</th>\n",
              "      <td>1</td>\n",
              "      <td>1.7225</td>\n",
              "      <td>1.4149</td>\n",
              "      <td>0.86440</td>\n",
              "      <td>0.97844</td>\n",
              "      <td>0.000901</td>\n",
              "    </tr>\n",
              "    <tr>\n",
              "      <th>2</th>\n",
              "      <td>2</td>\n",
              "      <td>1.5221</td>\n",
              "      <td>1.3626</td>\n",
              "      <td>0.86919</td>\n",
              "      <td>0.97556</td>\n",
              "      <td>0.000852</td>\n",
              "    </tr>\n",
              "    <tr>\n",
              "      <th>3</th>\n",
              "      <td>3</td>\n",
              "      <td>1.3781</td>\n",
              "      <td>1.2491</td>\n",
              "      <td>0.89938</td>\n",
              "      <td>0.98994</td>\n",
              "      <td>0.000802</td>\n",
              "    </tr>\n",
              "    <tr>\n",
              "      <th>4</th>\n",
              "      <td>4</td>\n",
              "      <td>1.2930</td>\n",
              "      <td>1.2151</td>\n",
              "      <td>0.91950</td>\n",
              "      <td>0.98802</td>\n",
              "      <td>0.000753</td>\n",
              "    </tr>\n",
              "  </tbody>\n",
              "</table>\n",
              "</div>\n",
              "      <button class=\"colab-df-convert\" onclick=\"convertToInteractive('df-e2d0d808-a6a5-499e-a3d2-a687201dbcfa')\"\n",
              "              title=\"Convert this dataframe to an interactive table.\"\n",
              "              style=\"display:none;\">\n",
              "\n",
              "  <svg xmlns=\"http://www.w3.org/2000/svg\" height=\"24px\"viewBox=\"0 0 24 24\"\n",
              "       width=\"24px\">\n",
              "    <path d=\"M0 0h24v24H0V0z\" fill=\"none\"/>\n",
              "    <path d=\"M18.56 5.44l.94 2.06.94-2.06 2.06-.94-2.06-.94-.94-2.06-.94 2.06-2.06.94zm-11 1L8.5 8.5l.94-2.06 2.06-.94-2.06-.94L8.5 2.5l-.94 2.06-2.06.94zm10 10l.94 2.06.94-2.06 2.06-.94-2.06-.94-.94-2.06-.94 2.06-2.06.94z\"/><path d=\"M17.41 7.96l-1.37-1.37c-.4-.4-.92-.59-1.43-.59-.52 0-1.04.2-1.43.59L10.3 9.45l-7.72 7.72c-.78.78-.78 2.05 0 2.83L4 21.41c.39.39.9.59 1.41.59.51 0 1.02-.2 1.41-.59l7.78-7.78 2.81-2.81c.8-.78.8-2.07 0-2.86zM5.41 20L4 18.59l7.72-7.72 1.47 1.35L5.41 20z\"/>\n",
              "  </svg>\n",
              "      </button>\n",
              "\n",
              "\n",
              "\n",
              "    <div id=\"df-7b2c78c1-c7ec-45e9-8610-c680ddd49d62\">\n",
              "      <button class=\"colab-df-quickchart\" onclick=\"quickchart('df-7b2c78c1-c7ec-45e9-8610-c680ddd49d62')\"\n",
              "              title=\"Suggest charts.\"\n",
              "              style=\"display:none;\">\n",
              "\n",
              "<svg xmlns=\"http://www.w3.org/2000/svg\" height=\"24px\"viewBox=\"0 0 24 24\"\n",
              "     width=\"24px\">\n",
              "    <g>\n",
              "        <path d=\"M19 3H5c-1.1 0-2 .9-2 2v14c0 1.1.9 2 2 2h14c1.1 0 2-.9 2-2V5c0-1.1-.9-2-2-2zM9 17H7v-7h2v7zm4 0h-2V7h2v10zm4 0h-2v-4h2v4z\"/>\n",
              "    </g>\n",
              "</svg>\n",
              "      </button>\n",
              "    </div>\n",
              "\n",
              "<style>\n",
              "  .colab-df-quickchart {\n",
              "    background-color: #E8F0FE;\n",
              "    border: none;\n",
              "    border-radius: 50%;\n",
              "    cursor: pointer;\n",
              "    display: none;\n",
              "    fill: #1967D2;\n",
              "    height: 32px;\n",
              "    padding: 0 0 0 0;\n",
              "    width: 32px;\n",
              "  }\n",
              "\n",
              "  .colab-df-quickchart:hover {\n",
              "    background-color: #E2EBFA;\n",
              "    box-shadow: 0px 1px 2px rgba(60, 64, 67, 0.3), 0px 1px 3px 1px rgba(60, 64, 67, 0.15);\n",
              "    fill: #174EA6;\n",
              "  }\n",
              "\n",
              "  [theme=dark] .colab-df-quickchart {\n",
              "    background-color: #3B4455;\n",
              "    fill: #D2E3FC;\n",
              "  }\n",
              "\n",
              "  [theme=dark] .colab-df-quickchart:hover {\n",
              "    background-color: #434B5C;\n",
              "    box-shadow: 0px 1px 3px 1px rgba(0, 0, 0, 0.15);\n",
              "    filter: drop-shadow(0px 1px 2px rgba(0, 0, 0, 0.3));\n",
              "    fill: #FFFFFF;\n",
              "  }\n",
              "</style>\n",
              "\n",
              "    <script>\n",
              "      async function quickchart(key) {\n",
              "        const containerElement = document.querySelector('#' + key);\n",
              "        const charts = await google.colab.kernel.invokeFunction(\n",
              "            'suggestCharts', [key], {});\n",
              "      }\n",
              "    </script>\n",
              "\n",
              "      <script>\n",
              "\n",
              "function displayQuickchartButton(domScope) {\n",
              "  let quickchartButtonEl =\n",
              "    domScope.querySelector('#df-7b2c78c1-c7ec-45e9-8610-c680ddd49d62 button.colab-df-quickchart');\n",
              "  quickchartButtonEl.style.display =\n",
              "    google.colab.kernel.accessAllowed ? 'block' : 'none';\n",
              "}\n",
              "\n",
              "        displayQuickchartButton(document);\n",
              "      </script>\n",
              "      <style>\n",
              "    .colab-df-container {\n",
              "      display:flex;\n",
              "      flex-wrap:wrap;\n",
              "      gap: 12px;\n",
              "    }\n",
              "\n",
              "    .colab-df-convert {\n",
              "      background-color: #E8F0FE;\n",
              "      border: none;\n",
              "      border-radius: 50%;\n",
              "      cursor: pointer;\n",
              "      display: none;\n",
              "      fill: #1967D2;\n",
              "      height: 32px;\n",
              "      padding: 0 0 0 0;\n",
              "      width: 32px;\n",
              "    }\n",
              "\n",
              "    .colab-df-convert:hover {\n",
              "      background-color: #E2EBFA;\n",
              "      box-shadow: 0px 1px 2px rgba(60, 64, 67, 0.3), 0px 1px 3px 1px rgba(60, 64, 67, 0.15);\n",
              "      fill: #174EA6;\n",
              "    }\n",
              "\n",
              "    [theme=dark] .colab-df-convert {\n",
              "      background-color: #3B4455;\n",
              "      fill: #D2E3FC;\n",
              "    }\n",
              "\n",
              "    [theme=dark] .colab-df-convert:hover {\n",
              "      background-color: #434B5C;\n",
              "      box-shadow: 0px 1px 3px 1px rgba(0, 0, 0, 0.15);\n",
              "      filter: drop-shadow(0px 1px 2px rgba(0, 0, 0, 0.3));\n",
              "      fill: #FFFFFF;\n",
              "    }\n",
              "  </style>\n",
              "\n",
              "      <script>\n",
              "        const buttonEl =\n",
              "          document.querySelector('#df-e2d0d808-a6a5-499e-a3d2-a687201dbcfa button.colab-df-convert');\n",
              "        buttonEl.style.display =\n",
              "          google.colab.kernel.accessAllowed ? 'block' : 'none';\n",
              "\n",
              "        async function convertToInteractive(key) {\n",
              "          const element = document.querySelector('#df-e2d0d808-a6a5-499e-a3d2-a687201dbcfa');\n",
              "          const dataTable =\n",
              "            await google.colab.kernel.invokeFunction('convertToInteractive',\n",
              "                                                     [key], {});\n",
              "          if (!dataTable) return;\n",
              "\n",
              "          const docLinkHtml = 'Like what you see? Visit the ' +\n",
              "            '<a target=\"_blank\" href=https://colab.research.google.com/notebooks/data_table.ipynb>data table notebook</a>'\n",
              "            + ' to learn more about interactive tables.';\n",
              "          element.innerHTML = '';\n",
              "          dataTable['output_type'] = 'display_data';\n",
              "          await google.colab.output.renderOutput(dataTable, element);\n",
              "          const docLink = document.createElement('div');\n",
              "          docLink.innerHTML = docLinkHtml;\n",
              "          element.appendChild(docLink);\n",
              "        }\n",
              "      </script>\n",
              "    </div>\n",
              "  </div>\n"
            ]
          },
          "metadata": {},
          "execution_count": 9
        }
      ]
    },
    {
      "cell_type": "code",
      "source": [
        "import matplotlib.pyplot as plt\n",
        "\n",
        "plt.plot(histortYOLOv5['                  epoch'],histortYOLOv5['  metrics/accuracy_top1'])\n",
        "plt.plot(histortYOLOv5['                  epoch'],histortYOLOv5['  metrics/accuracy_top5'])\n",
        "# plt.plot(historyVGG19.history['val_accuracy']) # Does YOLOv5 not record validation accuracy?\n",
        "plt.title('model accuracy')\n",
        "plt.ylabel('accuracy')\n",
        "plt.xlabel('epoch')\n",
        "plt.legend(['top1', 'top5'], loc='upper left')\n",
        "plt.show()"
      ],
      "metadata": {
        "colab": {
          "base_uri": "https://localhost:8080/",
          "height": 472
        },
        "id": "ZdHJO-S7thKq",
        "outputId": "24b11638-6dd8-4aef-f050-fd3d4eb532e6"
      },
      "execution_count": null,
      "outputs": [
        {
          "output_type": "display_data",
          "data": {
            "text/plain": [
              "<Figure size 640x480 with 1 Axes>"
            ],
            "image/png": "[encoded data removed]"
          },
          "metadata": {}
        }
      ]
    },
    {
      "cell_type": "code",
      "source": [
        "plt.plot(histortYOLOv5['                  epoch'],histortYOLOv5['             train/loss'])\n",
        "plt.plot(histortYOLOv5['                  epoch'],histortYOLOv5['              test/loss']) # named test in the YOLO files but it's the validation set\n",
        "plt.title('model loss')\n",
        "plt.ylabel('loss')\n",
        "plt.xlabel('epoch')\n",
        "plt.legend(['train', 'val'], loc='upper left')\n",
        "plt.show()"
      ],
      "metadata": {
        "colab": {
          "base_uri": "https://localhost:8080/",
          "height": 472
        },
        "id": "Arv61IiWvmL3",
        "outputId": "4d05a047-e3bd-4ea4-acd4-af9e82189824"
      },
      "execution_count": null,
      "outputs": [
        {
          "output_type": "display_data",
          "data": {
            "text/plain": [
              "<Figure size 640x480 with 1 Axes>"
            ],
            "image/png": "[encoded data removed]"
          },
          "metadata": {}
        }
      ]
    }
  ],
  "metadata": {
    "accelerator": "GPU",
    "colab": {
      "provenance": [],
      "gpuType": "T4"
    },
    "kernelspec": {
      "display_name": "Python 3",
      "name": "python3"
    },
    "language_info": {
      "name": "python"
    }
  },
  "nbformat": 4,
  "nbformat_minor": 0
}